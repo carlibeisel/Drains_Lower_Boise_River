{
  "nbformat": 4,
  "nbformat_minor": 0,
  "metadata": {
    "colab": {
      "provenance": [],
      "authorship_tag": "ABX9TyM9SkY2Sr3Y79u1vNXBVUQy",
      "include_colab_link": true
    },
    "kernelspec": {
      "name": "python3",
      "display_name": "Python 3"
    },
    "language_info": {
      "name": "python"
    }
  },
  "cells": [
    {
      "cell_type": "markdown",
      "metadata": {
        "id": "view-in-github",
        "colab_type": "text"
      },
      "source": [
        "<a href=\"https://colab.research.google.com/github/carlibeisel/Drains_Lower_Boise_River/blob/main/*water_rights.ipynb\" target=\"_parent\"><img src=\"https://colab.research.google.com/assets/colab-badge.svg\" alt=\"Open In Colab\"/></a>"
      ]
    },
    {
      "cell_type": "markdown",
      "source": [
        "Water Rights in the Treasure Valley\n",
        "\n",
        "By: Carli Beisel\n",
        "\n",
        "\n",
        "Created on August 2024\n",
        "\n",
        "\n",
        "Purpose:\n",
        "\n",
        "1) Crop Water Rights layer to drainshds in the Treasure Valley and also create a separate file that organizes all WR based on priorty year + surface/groundwater.\n",
        "\n",
        "\n",
        "2) Create a figure showing the difference between surface + groundwater rights.\n",
        "\n",
        "3) Create a figure showing change in water rights over time based on priorty date."
      ],
      "metadata": {
        "id": "8OktLwbA9-mg"
      }
    },
    {
      "cell_type": "markdown",
      "source": [
        "## 1. Organize IDWR Water Right Data from GIS Data Hub\n",
        "\n",
        "Separate based on surface/groundwater rights and organize based on priority year.  "
      ],
      "metadata": {
        "id": "_qGQw47--eiY"
      }
    },
    {
      "cell_type": "code",
      "execution_count": null,
      "metadata": {
        "id": "oWtk7b8r94Rp"
      },
      "outputs": [],
      "source": []
    },
    {
      "cell_type": "markdown",
      "source": [
        "## 2. Create a figure showing the difference between surface and groundwater rights in the Treasure Valley."
      ],
      "metadata": {
        "id": "FZycFNkT-m_y"
      }
    },
    {
      "cell_type": "markdown",
      "source": [
        "## 3. Create a figure showing change in water rights over time based on priorty date."
      ],
      "metadata": {
        "id": "22Xvh7i1-tGi"
      }
    }
  ]
}