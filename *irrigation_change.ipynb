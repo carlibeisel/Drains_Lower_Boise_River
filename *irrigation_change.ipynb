{
  "nbformat": 4,
  "nbformat_minor": 0,
  "metadata": {
    "colab": {
      "provenance": [],
      "authorship_tag": "ABX9TyOu7zEQTIVV1pqV8uOx+QqI",
      "include_colab_link": true
    },
    "kernelspec": {
      "name": "python3",
      "display_name": "Python 3"
    },
    "language_info": {
      "name": "python"
    }
  },
  "cells": [
    {
      "cell_type": "markdown",
      "metadata": {
        "id": "view-in-github",
        "colab_type": "text"
      },
      "source": [
        "<a href=\"https://colab.research.google.com/github/carlibeisel/Drains_Lower_Boise_River/blob/main/*irrigation_change.ipynb\" target=\"_parent\"><img src=\"https://colab.research.google.com/assets/colab-badge.svg\" alt=\"Open In Colab\"/></a>"
      ]
    },
    {
      "cell_type": "markdown",
      "source": [
        "Identifying Pivot Irrigated Land\n",
        "By: Carli Beisel\n",
        "\n",
        "Adapted from David Ketchum (Github: dgketchum)\n",
        "\n",
        "Created on May 13, 2024\n",
        "\n",
        "Modified on May 17, 2024\n",
        "\n",
        "Purpose:\n",
        "\n",
        "1) Finds pivot irrigated areas in irrigation shapefile. This code assumes that circles/arcs in the landscape represent pivot irrigation. This script finds arcs in polygon geometries of the shapefile, and writes a new attribute called \"pivot\". This Script is directly from David Ketchum.\n",
        "\n",
        "2) Sums area of pivot irrigation for each shapefile and combines into one dataframe. The created dataframe that has two columns: year and total acres of pivot irrigation.\n",
        "\n",
        "3) Generates a regression plot of irrigation change over time with the genderated dataframe."
      ],
      "metadata": {
        "id": "OMXTskvlUge0"
      }
    },
    {
      "cell_type": "markdown",
      "source": [
        "## 1. Finds pivot irrigated areas in irrigation shapefile. This code assumes that circles/arcs in the landscape represent pivot irrigation. This script finds arcs in polygon geometries of the shapefile, and writes a new attribute called \"pivot\".\n",
        "\n",
        "Before using this code, make a shapefile with only irrigated fields labeled '[year]_irrigated.shp'.\n",
        "\n",
        "This script is directly from David Ketchum."
      ],
      "metadata": {
        "id": "cB4oFnNQUqcZ"
      }
    },
    {
      "cell_type": "code",
      "execution_count": null,
      "metadata": {
        "id": "nTnBUOZhUbFO"
      },
      "outputs": [],
      "source": [
        "#import libraries\n",
        "import numpy as np\n",
        "import pandas as pd\n",
        "import geopandas as gpd\n",
        "! pip install pandarallel\n",
        "from pandarallel import pandarallel\n",
        "\n",
        "#connect to google drive\n",
        "from google.colab import drive\n",
        "drive.mount('/content/drive')"
      ]
    },
    {
      "cell_type": "code",
      "source": [
        "min_arc = 10\n",
        "tol = 0.22\n",
        "\n",
        "def area_flood_irrigation(shp):\n",
        "    df = gpd.read_file(shp)\n",
        "    p = df[df['IType'] == 'P']['geometry']\n",
        "    p = np.sum([g.area for g in p])\n",
        "    s = df[df['IType'] == 'S']['geometry']\n",
        "    s = np.sum([g.area for g in s])\n",
        "    f = df[df['IType'] == 'F']['geometry']\n",
        "    f = np.sum([g.area for g in f])\n",
        "    t = p + s + f\n",
        "    print('pivot: {:.3f} sqkm, {:.3f}'.format(p / 1e6, p / t))\n",
        "    print('sprinkler: {:.3f} sqkm, {:.3f}'.format(s / 1e6, s / t))\n",
        "    print('flood: {:.3f} sqkm, {:.3f}'.format(f / 1e6, f / t))\n",
        "\n",
        "# Calculates the bearing between two points given their coordinates.\n",
        "def bearing(a, b):\n",
        "    lat1 = np.radians(a[0])\n",
        "    lat2 = np.radians(b[0])\n",
        "\n",
        "    diffLong = np.radians(b[1] - a[1])\n",
        "\n",
        "    x = np.sin(diffLong) * np.cos(lat2)\n",
        "    y = np.cos(lat1) * np.sin(lat2) - (np.sin(lat1)\n",
        "                                       * np.cos(lat2) * np.cos(diffLong))\n",
        "\n",
        "    return np.arctan2(x, y)\n",
        "\n",
        "# Identify arcs within a geometry by checking the bearing between consecutive\n",
        "# vertices. If the bearing difference falls below a certain tolerance for a\n",
        "# specified number of consecutive vertices (min_arc), it returns True,\n",
        "# indicating the presence of an arc.\n",
        "\n",
        "def find_arcs(g):\n",
        "    verts = g.exterior.coords\n",
        "    arc_ct, b_prev = 0, np.pi\n",
        "    for i, v in enumerate(verts):\n",
        "        try:\n",
        "            next = verts[i + 1]\n",
        "        except IndexError:\n",
        "            break\n",
        "        b = bearing(v, next)\n",
        "        diff = b - b_prev\n",
        "        if diff < tol:\n",
        "            arc_ct += 1\n",
        "            if arc_ct >= min_arc:\n",
        "                return True\n",
        "        else:\n",
        "            arc_ct = 0\n",
        "        b_prev = b\n",
        "\n",
        "    return False"
      ],
      "metadata": {
        "id": "sjRH0XnZUvi2"
      },
      "execution_count": null,
      "outputs": []
    },
    {
      "cell_type": "code",
      "source": [
        "# Identify arcs within geometries in a shapefile. It utilizes the find_arcs\n",
        "# function and parallel processing using the Pandarallel library.\n",
        "\n",
        "def pivot_test(in_shp, out_shp):\n",
        "    pandarallel.initialize(use_memory_fs=False, progress_bar=True)\n",
        "\n",
        "    df = gpd.read_file(in_shp).explode()\n",
        "    df.index = range(df.shape[0])\n",
        "    print('{} features'.format(df.shape[0]))\n",
        "    df['arc'] = df.geometry.apply(lambda g: find_arcs(g))\n",
        "    df['arc'] = df.geometry.parallel_apply(find_arcs)\n",
        "    df.to_file(out_shp, crs='epsg:4326')\n",
        "    print('{} of {} features have an arc'.format(np.count_nonzero(df['arc']), df.shape[0]))"
      ],
      "metadata": {
        "id": "QHlGl7hoU5AD"
      },
      "execution_count": null,
      "outputs": []
    },
    {
      "cell_type": "code",
      "source": [
        "# Make sure there is a column named 'Acres' in inputted shapefile.\n",
        "# If not, use this code to rename the existing column to match\n",
        "\n",
        "shapefile_path = '/content/drive/MyDrive/Data/irrigation_shapefiles/irrigated_land_only/2022_HDR/2022_irrigated.shp'\n",
        "gdf = gpd.read_file(shapefile_path)\n",
        "\n",
        "print(\"Original columns:\", gdf.columns)\n",
        "gdf = gdf.rename(columns={'Field_Acre': 'Acres'}) #change column name to match your shapefile\n",
        "print(\"Renamed columns:\", gdf.columns)\n",
        "\n",
        "output_path = shapefile_path\n",
        "gdf.to_file(output_path)"
      ],
      "metadata": {
        "id": "Z2A8f88OU-LE"
      },
      "execution_count": null,
      "outputs": []
    },
    {
      "cell_type": "code",
      "source": [
        "#input file paths for irrigaton shapefile\n",
        "if __name__ == '__main__':\n",
        "    in_shp = '/content/drive/MyDrive/Data/irrigation_shapefiles/irrigated_land_only/2022_HDR/2022_irrigated.shp'\n",
        "    out_shp = '/content/drive/MyDrive/Data/irrigation_shapefiles/pivot/2022_arcs.shp'\n",
        "    pivot_test(in_shp, out_shp)"
      ],
      "metadata": {
        "id": "IGNhA443U7xP"
      },
      "execution_count": null,
      "outputs": []
    },
    {
      "cell_type": "markdown",
      "source": [
        "2.  Import shapefile of drains to create a subset."
      ],
      "metadata": {
        "id": "Sfh9lv91VZgc"
      }
    },
    {
      "cell_type": "markdown",
      "source": [
        "3. Sums area of pivot irrigated land and total irrigated land for each shapefile and combines into one dataframe. The created dataframe that has three columns: 1) year, 2) total pivot irrigated acres, and 3) total acres irrigated."
      ],
      "metadata": {
        "id": "FJDY1oGPVULS"
      }
    },
    {
      "cell_type": "code",
      "source": [
        "#import libraries\n",
        "!pip install geopandas shapely\n",
        "import geopandas as gpd\n",
        "import glob\n",
        "import pandas as pd\n",
        "import re\n",
        "from shapely.geometry import MultiPolygon #for shapefiles with holes or difficult shapes\n",
        "\n",
        "#connect to google drive\n",
        "from google.colab import drive\n",
        "drive.mount('/content/drive')"
      ],
      "metadata": {
        "id": "i1b09c50Vl8z"
      },
      "execution_count": null,
      "outputs": []
    },
    {
      "cell_type": "code",
      "source": [
        "# Load the total irrigated land shapefiles\n",
        "irrigated_fields = '/content/drive/MyDrive/Data/irrigation_shapefiles/irrigated_land_only/*.shp'\n",
        "shapefiles = glob.glob(irrigated_fields)\n",
        "\n",
        "# Define a function to extract the year from the filename\n",
        "def extract_year(filename):\n",
        "    match = re.search(r'(\\d{4})', filename)\n",
        "    return int(match.group(1)) if match else None\n",
        "\n",
        "# Iterate over each shapefile and read the \"Acres\" column\n",
        "irrigated_acres = []\n",
        "for shp in shapefiles:\n",
        "    year = extract_year(shp)\n",
        "    if year is None:\n",
        "        continue\n",
        "\n",
        "    gdf = gpd.read_file(shp)\n",
        "    total_area_acres = gdf['Acres'].sum()\n",
        "    irrigated_acres.append({'Year': year, 'Total Irrigated Acres': total_area_acres})\n",
        "\n",
        "# Create and sort the DataFrame by Year\n",
        "all = pd.DataFrame(irrigated_acres).sort_values(by='Year').reset_index(drop=True)\n",
        "\n",
        "print(all)"
      ],
      "metadata": {
        "id": "JBZ9kZmXVpTG"
      },
      "execution_count": null,
      "outputs": []
    },
    {
      "cell_type": "code",
      "source": [
        "# Load the pivot irrigation shapefiles\n",
        "pivot_files = '/content/drive/MyDrive/Data/irrigation_shapefiles/pivot/*.shp'\n",
        "shapefiles = glob.glob(pivot_files)\n",
        "\n",
        "# Define a function to extract the year from the filename\n",
        "def extract_year(filename):\n",
        "    match = re.search(r'(\\d{4})', filename)\n",
        "    return int(match.group(1)) if match else None\n",
        "\n",
        "# Iterate over each shapefile and read the \"Acres\" column where \"arc\" > 0\n",
        "pivot_acres = []\n",
        "for shp in shapefiles:\n",
        "    year = extract_year(shp)\n",
        "    if year is None:\n",
        "        continue\n",
        "\n",
        "    gdf = gpd.read_file(shp)\n",
        "    # Filter rows where 'arc' column has values greater than 0\n",
        "    filtered_gdf = gdf[gdf['arc'] > 0]\n",
        "    # Sum the 'Acres' column for the filtered rows\n",
        "    total_area_acres = filtered_gdf['Acres'].sum()\n",
        "    pivot_acres.append({'Year': year, 'Pivot Acres': total_area_acres})\n",
        "\n",
        "# Create and sort the DataFrame by Year\n",
        "pivot = pd.DataFrame(pivot_acres).sort_values(by='Year').reset_index(drop=True)\n",
        "\n",
        "print(pivot)"
      ],
      "metadata": {
        "id": "Ieoqx2odVr16"
      },
      "execution_count": null,
      "outputs": []
    },
    {
      "cell_type": "code",
      "source": [
        "#merge pivot and all irrigation style dataframes\n",
        "merged_data = pd.merge(all, pivot, on='Year', how='inner')\n",
        "print(merged_data)\n",
        "merged_data.to_csv('/content/drive/MyDrive/Data/irrigation_shapefiles/irrigation_change.csv', index=False)"
      ],
      "metadata": {
        "id": "a4Dko7-7VvUJ"
      },
      "execution_count": null,
      "outputs": []
    },
    {
      "cell_type": "code",
      "source": [
        "4. Generates a regression plot of irrigation change over time with the genderated dataframe."
      ],
      "metadata": {
        "id": "Tys67rd1Vg6A"
      },
      "execution_count": null,
      "outputs": []
    },
    {
      "cell_type": "code",
      "source": [
        "import seaborn as sns\n",
        "import pandas as pd\n",
        "import matplotlib.pyplot as plt\n",
        "from sklearn.linear_model import LinearRegression\n",
        "\n",
        "#connect to google drive\n",
        "from google.colab import drive\n",
        "drive.mount('/content/drive')"
      ],
      "metadata": {
        "id": "JLMEWZ9BV0sW"
      },
      "execution_count": null,
      "outputs": []
    },
    {
      "cell_type": "code",
      "source": [
        "df = pd.read_csv('/content/drive/MyDrive/Data/irrigation_shapefiles/irrigation_change.csv')"
      ],
      "metadata": {
        "id": "gO0N7qT1V1Qp"
      },
      "execution_count": null,
      "outputs": []
    },
    {
      "cell_type": "code",
      "source": [
        "# Calculate proportion of pivot irrigated acres divided by total irrigated acres\n",
        "df['Proportion_Pivot'] = df['Pivot Acres'] / df['Total Irrigated Acres'] #old version\n",
        "print(df)"
      ],
      "metadata": {
        "id": "LqAJJhQzV3U3"
      },
      "execution_count": null,
      "outputs": []
    },
    {
      "cell_type": "code",
      "source": [
        "# Initialize and fit the linear regression model\n",
        "model = LinearRegression()\n",
        "X = df[['Year']]\n",
        "y = df['Proportion_Pivot']\n",
        "model.fit(X, y)\n",
        "\n",
        "# Predict values using the fitted model\n",
        "df['Predicted_Acres'] = model.predict(X)\n",
        "\n",
        "# Calculate the R² value\n",
        "r_squared = model.score(X, y)\n",
        "\n",
        "# Plot scatter plot and regression line\n",
        "plt.figure(figsize=(10, 6))\n",
        "sns.scatterplot(data=df, x='Year', y='Proportion_Pivot', marker='o', label='Actual Data')\n",
        "plt.plot(df['Year'], df['Predicted_Acres'], color='red', label='Regression Line')\n",
        "\n",
        "# Customize the plot\n",
        "plt.title('Proportion of Land Pivot Irrigated each Year')\n",
        "plt.xlabel('Year')\n",
        "plt.ylabel('Proportion of Land Irrigated with Pivot')\n",
        "plt.grid(True)\n",
        "plt.legend()\n",
        "\n",
        "# Annotate the R² value on the plot\n",
        "plt.text(\n",
        "    0.05, 0.85, f'R²: {r_squared:.2f}',\n",
        "    transform=plt.gca().transAxes, fontsize=12, verticalalignment='top'\n",
        ")\n",
        "\n",
        "# Show the plot\n",
        "plt.savefig('/content/drive/MyDrive/Carli Thesis/Figures/pivot_regression.tiff', format='tiff', dpi=300)\n",
        "plt.show()"
      ],
      "metadata": {
        "id": "qKd4xYxbV5Ci"
      },
      "execution_count": null,
      "outputs": []
    },
    {
      "cell_type": "code",
      "source": [
        "# Line graph with pivot proportion\n",
        "plt.figure(figsize=(10, 6))\n",
        "sns.scatterplot(data=df, x='Year', y='Proportion_Pivot', marker='o', label='Actual Data')\n",
        "plt.plot(df['Year'], df['Proportion_Pivot'], color='red', label='Regression Line')\n",
        "\n",
        "#Customize the legend\n",
        "plt.title('Proportion of Land Irrigated with Pivot')\n",
        "plt.xlabel('Year')\n",
        "plt.ylabel('Proportion of Land Irrigated with Pivot')\n",
        "plt.grid(True)\n",
        "plt.legend()\n",
        "\n",
        "plt.savefig('/content/drive/MyDrive/Carli Thesis/Figures/pivot_scatter.tiff', format='tiff', dpi=300)"
      ],
      "metadata": {
        "id": "yO5FoNENV8z7"
      },
      "execution_count": null,
      "outputs": []
    }
  ]
}