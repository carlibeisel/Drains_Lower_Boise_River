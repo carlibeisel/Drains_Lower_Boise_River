{
  "nbformat": 4,
  "nbformat_minor": 0,
  "metadata": {
    "colab": {
      "provenance": [],
      "authorship_tag": "ABX9TyNUdyMYQMR6wrszMg6mLRQ5",
      "include_colab_link": true
    },
    "kernelspec": {
      "name": "python3",
      "display_name": "Python 3"
    },
    "language_info": {
      "name": "python"
    }
  },
  "cells": [
    {
      "cell_type": "markdown",
      "metadata": {
        "id": "view-in-github",
        "colab_type": "text"
      },
      "source": [
        "<a href=\"https://colab.research.google.com/github/carlibeisel/Drains_Lower_Boise_River/blob/main/*irrigation_change.ipynb\" target=\"_parent\"><img src=\"https://colab.research.google.com/assets/colab-badge.svg\" alt=\"Open In Colab\"/></a>"
      ]
    },
    {
      "cell_type": "markdown",
      "source": [
        "Identifying Pivot Irrigated Land\n",
        "By: Carli Beisel\n",
        "\n",
        "Adapted from David Ketchum (Github: dgketchum)\n",
        "\n",
        "Created on May 13, 2024\n",
        "\n",
        "Modified on May 17, 2024\n",
        "\n",
        "Purpose:\n",
        "\n",
        "1) Finds pivot irrigated areas in irrigation shapefile. This code assumes that circles/arcs in the landscape represent pivot irrigation. This script finds arcs in polygon geometries of the shapefile, and writes a new attribute called \"pivot\". This Script is directly from David Ketchum.\n",
        "\n",
        "2) Sums area of pivot irrigation for each shapefile and combines into one dataframe. The created dataframe that has two columns: year and total acres of pivot irrigation.\n",
        "\n",
        "3) Generates a regression plot of irrigation change over time with the genderated dataframe."
      ],
      "metadata": {
        "id": "OMXTskvlUge0"
      }
    },
    {
      "cell_type": "markdown",
      "source": [
        "## 1. Crop Irrigated Fields Shapefiles to each drainshed."
      ],
      "metadata": {
        "id": "eTJRzCPXQP9B"
      }
    },
    {
      "cell_type": "code",
      "execution_count": null,
      "metadata": {
        "id": "nTnBUOZhUbFO"
      },
      "outputs": [],
      "source": [
        "# ------------------ #\n",
        "#  Import Libraries  #\n",
        "# ------------------ #\n",
        "import numpy as np\n",
        "import pandas as pd\n",
        "import geopandas as gpd\n",
        "! pip install pandarallel\n",
        "from pandarallel import pandarallel\n",
        "import glob\n",
        "import os\n",
        "from shapely.geometry import shape\n",
        "\n",
        "#connect to google drive\n",
        "from google.colab import drive\n",
        "drive.mount('/content/drive')"
      ]
    },
    {
      "cell_type": "code",
      "source": [
        "# ------------------------------------------ #\n",
        "#  Crop Irrigated Field Shapefile to Drains  #\n",
        "# ------------------------------------------ #\n",
        "\n",
        "drainsheds = gpd.read_file('/content/drive/MyDrive/Data/Drains_Lower_Boise_River/data_input/drain_delineation/Drains_Merge_07072022.shp')\n",
        "names = drainsheds['Name']\n",
        "irrigated_field_files = glob.glob('/content/drive/MyDrive/Data/irrigation_shapefiles/irrigated_land_only/*.shp')\n",
        "output_dir = '/content/drive/MyDrive/Data/Model Modifications/irrigation_change/drainshed_irrigated_fields'\n",
        "\n",
        "# Create output directory if it does not exist\n",
        "os.makedirs(output_dir, exist_ok=True)\n",
        "\n",
        "# Create function to crop shapefile to each drainshed area\n",
        "def crop_shapefiles(irrigated_field_files, drainsheds, output_dir):\n",
        "    mask_gdf = drainsheds\n",
        "    for field_file in irrigated_field_files:\n",
        "        input_gdf = gpd.read_file(field_file)\n",
        "        if input_gdf.crs != mask_gdf.crs:\n",
        "            input_gdf = input_gdf.to_crs(mask_gdf.crs)\n",
        "        for i, mask_feature in mask_gdf.iterrows():\n",
        "            mask_geom = mask_feature['geometry']\n",
        "            mask_name = mask_feature['Name']\n",
        "            cropped_gdf = gpd.overlay(input_gdf, gpd.GeoDataFrame(geometry=[mask_geom], crs=mask_gdf.crs), how='intersection')\n",
        "            field_name = os.path.splitext(os.path.basename(field_file))[0]\n",
        "            output_filename = os.path.join(output_dir, f\"{field_name}_{mask_name}_cropped.shp\")\n",
        "            cropped_gdf.to_file(output_filename)\n",
        "            print(f\"Cropped shapefile saved to {output_filename}\")\n",
        "\n",
        "crop_shapefiles(irrigated_field_files, drainsheds, output_dir)"
      ],
      "metadata": {
        "id": "N7Jptfj7Mstt"
      },
      "execution_count": null,
      "outputs": []
    },
    {
      "cell_type": "markdown",
      "source": [
        "## 2. Find pivot irrigated areas in each drain's irrigation shapefile.\n",
        "\n",
        "This code assumes that circles/arcs in the landscape represent pivot irrigation. This script finds arcs in polygon geometries of the shapefile, and writes a new attribute called \"pivot\".\n",
        "\n",
        "This script is directly from David Ketchum."
      ],
      "metadata": {
        "id": "cB4oFnNQUqcZ"
      }
    },
    {
      "cell_type": "code",
      "source": [
        "# ------------------ #\n",
        "#  Import Libraries  #\n",
        "# ------------------ #\n",
        "import numpy as np\n",
        "import pandas as pd\n",
        "import geopandas as gpd\n",
        "! pip install pandarallel\n",
        "from pandarallel import pandarallel\n",
        "import glob\n",
        "import os\n",
        "from shapely.geometry import shape\n",
        "\n",
        "#connect to google drive\n",
        "from google.colab import drive\n",
        "drive.mount('/content/drive')"
      ],
      "metadata": {
        "id": "uCwEkuCgRDE4"
      },
      "execution_count": null,
      "outputs": []
    },
    {
      "cell_type": "code",
      "source": [
        "# ------------------------------------------ #\n",
        "#       Create Pivot_Test Function           #\n",
        "# ------------------------------------------ #\n",
        "\n",
        "min_arc = 10\n",
        "tol = 0.22\n",
        "\n",
        "def area_flood_irrigation(shp):\n",
        "    df = gpd.read_file(shp)\n",
        "    p = df[df['IType'] == 'P']['geometry']\n",
        "    p = np.sum([g.area for g in p])\n",
        "    s = df[df['IType'] == 'S']['geometry']\n",
        "    s = np.sum([g.area for g in s])\n",
        "    f = df[df['IType'] == 'F']['geometry']\n",
        "    f = np.sum([g.area for g in f])\n",
        "    t = p + s + f\n",
        "    print('pivot: {:.3f} sqkm, {:.3f}'.format(p / 1e6, p / t))\n",
        "    print('sprinkler: {:.3f} sqkm, {:.3f}'.format(s / 1e6, s / t))\n",
        "    print('flood: {:.3f} sqkm, {:.3f}'.format(f / 1e6, f / t))\n",
        "\n",
        "def bearing(a, b):\n",
        "    lat1 = np.radians(a[0])\n",
        "    lat2 = np.radians(b[0])\n",
        "\n",
        "    diffLong = np.radians(b[1] - a[1])\n",
        "\n",
        "    x = np.sin(diffLong) * np.cos(lat2)\n",
        "    y = np.cos(lat1) * np.sin(lat2) - (np.sin(lat1)\n",
        "                                       * np.cos(lat2) * np.cos(diffLong))\n",
        "\n",
        "    return np.arctan2(x, y)\n",
        "\n",
        "def find_arcs(g):\n",
        "    verts = g.exterior.coords\n",
        "    arc_ct, b_prev = 0, np.pi\n",
        "    for i, v in enumerate(verts):\n",
        "        try:\n",
        "            next = verts[i + 1]\n",
        "        except IndexError:\n",
        "            break\n",
        "        b = bearing(v, next)\n",
        "        diff = b - b_prev\n",
        "        if diff < tol:\n",
        "            arc_ct += 1\n",
        "            if arc_ct >= min_arc:\n",
        "                return True\n",
        "        else:\n",
        "            arc_ct = 0\n",
        "        b_prev = b\n",
        "\n",
        "    return False\n",
        "\n",
        "def pivot_test(in_shp, out_shp):\n",
        "    pandarallel.initialize(use_memory_fs=False, progress_bar=True)\n",
        "\n",
        "    df = gpd.read_file(in_shp).explode()\n",
        "    df.index = range(df.shape[0])\n",
        "    print('{} features'.format(df.shape[0]))\n",
        "    df['arc'] = df.geometry.apply(lambda g: find_arcs(g))\n",
        "    df['arc'] = df.geometry.parallel_apply(find_arcs)\n",
        "    df.to_file(out_shp, crs='epsg:4326')\n",
        "    print('{} of {} features have an arc'.format(np.count_nonzero(df['arc']), df.shape[0]))"
      ],
      "metadata": {
        "id": "sjRH0XnZUvi2"
      },
      "execution_count": null,
      "outputs": []
    },
    {
      "cell_type": "code",
      "source": [
        "# --------------------------------------------------- #\n",
        "#        Run Pivot_Test for each Shapefile            #\n",
        "# --------------------------------------------------- #\n",
        "\n",
        "years = np.arange(1987,2022)\n",
        "files = glob.glob('/content/drive/MyDrive/Data/Model Modifications/irrigation_change/drainshed_irrigated_fields/*.shp')\n",
        "\n",
        "if __name__ == '__main__':\n",
        "    for file in files:\n",
        "       base_name = file.split('/')[-1].split('.')[0].replace('irrigated_', '')\n",
        "       base_name = base_name.replace('_cropped', '')  # Remove \"_cropped\"\n",
        "       for year in years:\n",
        "            out_shp = f'/content/drive/MyDrive/Data/Model Modifications/irrigation_change/drainshed_pivot/{base_name}_arcs.shp'\n",
        "            pivot_test(file, out_shp)"
      ],
      "metadata": {
        "id": "IGNhA443U7xP"
      },
      "execution_count": null,
      "outputs": []
    },
    {
      "cell_type": "markdown",
      "source": [
        "## 3. Sums area of pivot irrigated land and total irrigated land for each shapefile and combines into one dataframe.\n",
        "\n",
        "The created dataframe that has three columns: 1) year, 2) total pivot irrigated acres, and 3) total acres irrigated."
      ],
      "metadata": {
        "id": "FJDY1oGPVULS"
      }
    },
    {
      "cell_type": "code",
      "source": [
        "# ------------------------ #\n",
        "#   Import Libraries       #\n",
        "# ------------------------ #\n",
        "!pip install geopandas shapely\n",
        "import geopandas as gpd\n",
        "import glob\n",
        "import pandas as pd\n",
        "import re\n",
        "from shapely.geometry import MultiPolygon #for shapefiles with holes or difficult shapes\n",
        "import os\n",
        "\n",
        "#connect to google drive\n",
        "from google.colab import drive\n",
        "drive.mount('/content/drive')"
      ],
      "metadata": {
        "id": "i1b09c50Vl8z",
        "colab": {
          "base_uri": "https://localhost:8080/"
        },
        "outputId": "67830797-3ad0-4ec3-8013-3f624e3e6a66"
      },
      "execution_count": 11,
      "outputs": [
        {
          "output_type": "stream",
          "name": "stdout",
          "text": [
            "Requirement already satisfied: geopandas in /usr/local/lib/python3.10/dist-packages (0.14.4)\n",
            "Requirement already satisfied: shapely in /usr/local/lib/python3.10/dist-packages (2.0.5)\n",
            "Requirement already satisfied: fiona>=1.8.21 in /usr/local/lib/python3.10/dist-packages (from geopandas) (1.9.6)\n",
            "Requirement already satisfied: numpy>=1.22 in /usr/local/lib/python3.10/dist-packages (from geopandas) (1.26.4)\n",
            "Requirement already satisfied: packaging in /usr/local/lib/python3.10/dist-packages (from geopandas) (24.1)\n",
            "Requirement already satisfied: pandas>=1.4.0 in /usr/local/lib/python3.10/dist-packages (from geopandas) (2.1.4)\n",
            "Requirement already satisfied: pyproj>=3.3.0 in /usr/local/lib/python3.10/dist-packages (from geopandas) (3.6.1)\n",
            "Requirement already satisfied: attrs>=19.2.0 in /usr/local/lib/python3.10/dist-packages (from fiona>=1.8.21->geopandas) (24.2.0)\n",
            "Requirement already satisfied: certifi in /usr/local/lib/python3.10/dist-packages (from fiona>=1.8.21->geopandas) (2024.7.4)\n",
            "Requirement already satisfied: click~=8.0 in /usr/local/lib/python3.10/dist-packages (from fiona>=1.8.21->geopandas) (8.1.7)\n",
            "Requirement already satisfied: click-plugins>=1.0 in /usr/local/lib/python3.10/dist-packages (from fiona>=1.8.21->geopandas) (1.1.1)\n",
            "Requirement already satisfied: cligj>=0.5 in /usr/local/lib/python3.10/dist-packages (from fiona>=1.8.21->geopandas) (0.7.2)\n",
            "Requirement already satisfied: six in /usr/local/lib/python3.10/dist-packages (from fiona>=1.8.21->geopandas) (1.16.0)\n",
            "Requirement already satisfied: python-dateutil>=2.8.2 in /usr/local/lib/python3.10/dist-packages (from pandas>=1.4.0->geopandas) (2.8.2)\n",
            "Requirement already satisfied: pytz>=2020.1 in /usr/local/lib/python3.10/dist-packages (from pandas>=1.4.0->geopandas) (2024.1)\n",
            "Requirement already satisfied: tzdata>=2022.1 in /usr/local/lib/python3.10/dist-packages (from pandas>=1.4.0->geopandas) (2024.1)\n",
            "Drive already mounted at /content/drive; to attempt to forcibly remount, call drive.mount(\"/content/drive\", force_remount=True).\n"
          ]
        }
      ]
    },
    {
      "cell_type": "code",
      "source": [
        "# --------------------------------------------------- #\n",
        "#   Sum Total Irrigated Area for Each Drainshed       #\n",
        "# --------------------------------------------------- #\n",
        "# Define a function to extract the year, name, and whether the file is cropped from the filename\n",
        "def parse_filename(filename):\n",
        "    base_name = os.path.splitext(os.path.basename(filename))[0]\n",
        "    match = re.match(r'(\\d{4})_irrigated_(.*?)_cropped', base_name)\n",
        "    year = int(match.group(1))\n",
        "    name = match.group(2).replace('_', ' ')\n",
        "\n",
        "irrigated_fields = glob.glob('/content/drive/MyDrive/Data/Model Modifications/irrigation_change/drainshed_irrigated_fields/*.shp'))\n",
        "\n",
        "irrigated_acres = []\n",
        "for shp in irrigated_fields:\n",
        "    year, name = parse_filename(shp)\n",
        "    gdf = gpd.read_file(shp)\n",
        "    total_area_acres = gdf['Acres'].sum()\n",
        "    irrigated_acres.append({'Year': year, 'Name': name, 'Total Irrigated Acres': total_area_acres})\n",
        "\n",
        "\n",
        "all_data = pd.DataFrame(irrigated_acres)\n",
        "all_data.to_csv('/content/drive/MyDrive/Data/Model Modifications/irrigation_change/all_irrigated_fields.csv', index=False)"
      ],
      "metadata": {
        "id": "JBZ9kZmXVpTG",
        "colab": {
          "base_uri": "https://localhost:8080/"
        },
        "outputId": "b9d083bb-77ce-4631-d438-de2df0bd65b4"
      },
      "execution_count": 12,
      "outputs": [
        {
          "output_type": "stream",
          "name": "stdout",
          "text": [
            "CSV file saved to /content/drive/MyDrive/Data/Model Modifications/irrigation_change/all_irrigated_fields.csv\n"
          ]
        }
      ]
    },
    {
      "cell_type": "code",
      "source": [
        "# --------------------------------------------------- #\n",
        "#  Sum Total Pivot Irrigated Area for Each Drainshed  #\n",
        "# --------------------------------------------------- #\n",
        "\n",
        "\n",
        "# Define a function to extract the year and name from the filename\n",
        "def parse_filename(filename):\n",
        "    # Extract the base name without extension\n",
        "    base_name = os.path.splitext(os.path.basename(filename))[0]\n",
        "    # Use regex to capture year and name\n",
        "    match = re.match(r'(\\d{4})_(.*?)_arcs', base_name)\n",
        "    if match:\n",
        "        year = int(match.group(1))\n",
        "        name = match.group(2).replace('_', ' ')\n",
        "        return year, name\n",
        "    return None, None\n",
        "\n",
        "# List all shapefiles in the input folder\n",
        "shapefiles = glob.glob('/content/drive/MyDrive/Data/Model Modifications/irrigation_change/drainshed_pivot/*.shp')\n",
        "\n",
        "# Initialize a list to store data\n",
        "irrigated_acres = []\n",
        "\n",
        "# Iterate over each shapefile\n",
        "for shp in shapefiles:\n",
        "    year, name = parse_filename(shp)\n",
        "    gdf = gpd.read_file(shp)\n",
        "    total_area_acres = gdf['arc'].sum()\n",
        "    irrigated_acres.append({'Year': year, 'Name': name, 'Pivot Irrigated Acres': total_area_acres})\n",
        "\n",
        "pivot_data = pd.DataFrame(irrigated_acres)\n",
        "\n",
        "# Save the DataFrame to a CSV file\n",
        "pivot_data.to_csv('/content/drive/MyDrive/Data/Model Modifications/irrigation_change/pivot_irrigated_fields.csv', index=False)\n"
      ],
      "metadata": {
        "id": "Ieoqx2odVr16"
      },
      "execution_count": 27,
      "outputs": []
    },
    {
      "cell_type": "code",
      "source": [
        "# --------------------------------------------------- #\n",
        "#  Combine Dataframes & Calculate Proportion Metric   #\n",
        "# --------------------------------------------------- #\n",
        "\n",
        "pivot = pd.read_csv('/content/drive/MyDrive/Data/Model Modifications/irrigation_change/pivot_irrigated_fields.csv')\n",
        "all = pd.read_csv('/content/drive/MyDrive/Data/Model Modifications/irrigation_change/all_irrigated_fields.csv')\n",
        "\n",
        "merged_data = pd.merge(pivot, all, on=['Year', 'Name'], how='inner')\n",
        "print(merged_data)\n",
        "\n",
        "merged_data['Pivot Proportion'] = merged_data['Pivot Irrigated Acres'] / merged_data['Total Irrigated Acres']\n",
        "print(merged_data)\n",
        "merged_data.to_csv('/content/drive/MyDrive/Data/Model Modifications/irrigation_change/drainshed_irrigation_change.csv', index=False)"
      ],
      "metadata": {
        "colab": {
          "base_uri": "https://localhost:8080/"
        },
        "id": "DJ8MAIY1cZrm",
        "outputId": "4e21ed7c-dae7-49c1-80a8-031302bd49f4"
      },
      "execution_count": 35,
      "outputs": [
        {
          "output_type": "stream",
          "name": "stdout",
          "text": [
            "     Year             Name  Pivot Irrigated Acres  Total Irrigated Acres\n",
            "0    1987     West Hartley                      0            4722.584324\n",
            "1    1987   Sand Run Gulch                     64           24421.949064\n",
            "2    1987      Eagle Drain                      0            4944.132809\n",
            "3    1987      Mason Drain                      0            1381.270030\n",
            "4    1987      Mason Creek                     39           37334.311807\n",
            "..    ...              ...                    ...                    ...\n",
            "105  2022     Conway Gulch                      2            6476.808475\n",
            "106  2022     ThurmanDrain                      4             155.390976\n",
            "107  2022  North Middleton                      4            2753.039580\n",
            "108  2022  South Middleton                      8            5890.767630\n",
            "109  2022     Indian Creek                    164           23195.494185\n",
            "\n",
            "[110 rows x 4 columns]\n",
            "     Year             Name  Pivot Irrigated Acres  Total Irrigated Acres  \\\n",
            "0    1987     West Hartley                      0            4722.584324   \n",
            "1    1987   Sand Run Gulch                     64           24421.949064   \n",
            "2    1987      Eagle Drain                      0            4944.132809   \n",
            "3    1987      Mason Drain                      0            1381.270030   \n",
            "4    1987      Mason Creek                     39           37334.311807   \n",
            "..    ...              ...                    ...                    ...   \n",
            "105  2022     Conway Gulch                      2            6476.808475   \n",
            "106  2022     ThurmanDrain                      4             155.390976   \n",
            "107  2022  North Middleton                      4            2753.039580   \n",
            "108  2022  South Middleton                      8            5890.767630   \n",
            "109  2022     Indian Creek                    164           23195.494185   \n",
            "\n",
            "     Pivot Proportion  \n",
            "0            0.000000  \n",
            "1            0.002621  \n",
            "2            0.000000  \n",
            "3            0.000000  \n",
            "4            0.001045  \n",
            "..                ...  \n",
            "105          0.000309  \n",
            "106          0.025742  \n",
            "107          0.001453  \n",
            "108          0.001358  \n",
            "109          0.007070  \n",
            "\n",
            "[110 rows x 5 columns]\n"
          ]
        }
      ]
    },
    {
      "cell_type": "markdown",
      "source": [
        "## 4. Generate a regression plot of irrigation change over time for each drainshed."
      ],
      "metadata": {
        "id": "IHGnwjaILfLA"
      }
    },
    {
      "cell_type": "code",
      "source": [
        "# ------------------------ #\n",
        "#   Import Libraries       #\n",
        "# ------------------------ #\n",
        "\n",
        "import seaborn as sns\n",
        "import pandas as pd\n",
        "import matplotlib.pyplot as plt\n",
        "from sklearn.linear_model import LinearRegression\n",
        "\n",
        "#connect to google drive\n",
        "from google.colab import drive\n",
        "drive.mount('/content/drive')"
      ],
      "metadata": {
        "id": "JLMEWZ9BV0sW",
        "colab": {
          "base_uri": "https://localhost:8080/"
        },
        "outputId": "d6da568c-d3fc-4ad1-a487-d4a210d56527"
      },
      "execution_count": 28,
      "outputs": [
        {
          "output_type": "stream",
          "name": "stdout",
          "text": [
            "Drive already mounted at /content/drive; to attempt to forcibly remount, call drive.mount(\"/content/drive\", force_remount=True).\n"
          ]
        }
      ]
    },
    {
      "cell_type": "code",
      "source": [
        "# -------------------------------------------------------- #\n",
        "#  Calculate Proportion of Pivot / Total Irrigated Area    #\n",
        "# -------------------------------------------------------- #\n",
        "df = pd.read_csv('/content/drive/MyDrive/Data/Model Modifications/irrigation_change/irrigation_change.csv')\n",
        "\n",
        "df['Proportion_Pivot'] = df['Pivot Acres'] / df['Total Irrigated Acres']\n",
        "print(df)"
      ],
      "metadata": {
        "id": "LqAJJhQzV3U3"
      },
      "execution_count": null,
      "outputs": []
    },
    {
      "cell_type": "code",
      "source": [
        "# Initialize and fit the linear regression model\n",
        "model = LinearRegression()\n",
        "X = df[['Year']]\n",
        "y = df['Proportion_Pivot']\n",
        "model.fit(X, y)\n",
        "\n",
        "# Predict values using the fitted model\n",
        "df['Predicted_Acres'] = model.predict(X)\n",
        "\n",
        "# Calculate the R² value\n",
        "r_squared = model.score(X, y)\n",
        "\n",
        "# Plot scatter plot and regression line\n",
        "plt.figure(figsize=(10, 6))\n",
        "sns.scatterplot(data=df, x='Year', y='Proportion_Pivot', marker='o', label='Actual Data')\n",
        "plt.plot(df['Year'], df['Predicted_Acres'], color='red', label='Regression Line')\n",
        "\n",
        "# Customize the plot\n",
        "plt.title('Proportion of Land Pivot Irrigated each Year')\n",
        "plt.xlabel('Year')\n",
        "plt.ylabel('Proportion of Land Irrigated with Pivot')\n",
        "plt.grid(True)\n",
        "plt.legend()\n",
        "\n",
        "# Annotate the R² value on the plot\n",
        "plt.text(\n",
        "    0.05, 0.85, f'R²: {r_squared:.2f}',\n",
        "    transform=plt.gca().transAxes, fontsize=12, verticalalignment='top'\n",
        ")\n",
        "\n",
        "# Show the plot\n",
        "plt.savefig('/content/drive/MyDrive/Data/Model Modifications/irrigation_change/Figures/pivot_regression.tiff', format='tiff', dpi=300)\n",
        "plt.show()"
      ],
      "metadata": {
        "id": "qKd4xYxbV5Ci"
      },
      "execution_count": null,
      "outputs": []
    },
    {
      "cell_type": "code",
      "source": [
        "# Line graph with pivot proportion\n",
        "plt.figure(figsize=(10, 6))\n",
        "sns.scatterplot(data=df, x='Year', y='Proportion_Pivot', marker='o', label='Actual Data')\n",
        "plt.plot(df['Year'], df['Proportion_Pivot'], color='red', label='Regression Line')\n",
        "\n",
        "#Customize the legend\n",
        "plt.title('Proportion of Land Irrigated with Pivot')\n",
        "plt.xlabel('Year')\n",
        "plt.ylabel('Proportion of Land Irrigated with Pivot')\n",
        "plt.grid(True)\n",
        "plt.legend()\n",
        "\n",
        "plt.savefig('/content/drive/MyDrive/Data/Model Modifications/irrigation_change/Figures/pivot_scatter.tiff', format='tiff', dpi=300)"
      ],
      "metadata": {
        "id": "yO5FoNENV8z7"
      },
      "execution_count": null,
      "outputs": []
    },
    {
      "cell_type": "markdown",
      "source": [
        "## 5. Create a new dataset based on regression data for input into GLMM model."
      ],
      "metadata": {
        "id": "0RX6R8w0NNtX"
      }
    },
    {
      "cell_type": "code",
      "source": [],
      "metadata": {
        "id": "aAGhYc5aNSMP"
      },
      "execution_count": null,
      "outputs": []
    }
  ]
}