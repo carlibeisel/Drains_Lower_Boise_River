{
  "nbformat": 4,
  "nbformat_minor": 0,
  "metadata": {
    "colab": {
      "provenance": [],
      "authorship_tag": "ABX9TyOCSznS9YA2jW2QHrqCrVzk",
      "include_colab_link": true
    },
    "kernelspec": {
      "name": "python3",
      "display_name": "Python 3"
    },
    "language_info": {
      "name": "python"
    }
  },
  "cells": [
    {
      "cell_type": "markdown",
      "metadata": {
        "id": "view-in-github",
        "colab_type": "text"
      },
      "source": [
        "<a href=\"https://colab.research.google.com/github/carlibeisel/Drains_Lower_Boise_River/blob/main/05_compile_data.ipynb\" target=\"_parent\"><img src=\"https://colab.research.google.com/assets/colab-badge.svg\" alt=\"Open In Colab\"/></a>"
      ]
    },
    {
      "cell_type": "markdown",
      "source": [
        "Modified by Carli Beisel\n",
        "\n",
        "Adapted from code written by Bridget Bittmann (2023, Github: bridgetmarie24)\n",
        "\n",
        "Date originally created: July 21, 2022\n",
        "\n",
        "Date modified: May 13, 2024\n",
        "\n",
        "Purpose: Merges flow, climate, and land use annual stats together.\n",
        "\n",
        "*** cannot use direct output from this in R. It merges Mason Creek and Mason Drain wrong. This was manually corrected."
      ],
      "metadata": {
        "id": "pkefc9OxD4ol"
      }
    },
    {
      "cell_type": "code",
      "source": [
        "## --------------- ##\n",
        "## IMPORT PACKAGES ##\n",
        "## --------------- ##\n",
        "\n",
        "import pandas as pd # to work with dataframe\n",
        "import os # for file paths\n",
        "import glob # read in a folder of csv\n",
        "import numpy as np # basic statistics\n",
        "\n",
        "#connect to Google Drive\n",
        "from google.colab import drive\n",
        "drive.mount('/content/gdrive', force_remount=True)"
      ],
      "metadata": {
        "id": "03IdZdGI_JcL",
        "colab": {
          "base_uri": "https://localhost:8080/"
        },
        "outputId": "37be31da-4653-476b-8b98-8328452d579e"
      },
      "execution_count": 1,
      "outputs": [
        {
          "output_type": "stream",
          "name": "stdout",
          "text": [
            "Mounted at /content/gdrive\n"
          ]
        }
      ]
    },
    {
      "cell_type": "code",
      "source": [
        "## ------------------------------ ##\n",
        "## IMPORT ALL DATASETS ##\n",
        "## ------------------------------ ##\n",
        "\n",
        "drains = pd.read_csv('/content/gdrive/MyDrive/Data/Drains_Lower_Boise_River/data_output/drainage_flows_out/annual_flow_vals.csv')\n",
        "\n",
        "land_files = sorted(glob.glob('/content/gdrive/MyDrive/Data/Drains_Lower_Boise_River/data_output/landcover_calculations_out/final_metrics/*.csv'))\n",
        "land = []\n",
        "for i in land_files:\n",
        "  land.append(pd.read_csv(i))\n",
        "land = pd.concat(land)\n",
        "\n",
        "clim_files = sorted(glob.glob('/content/gdrive/MyDrive/Data/Drains_Lower_Boise_River/data_output/climate_data_extract_out/final/*.csv'))\n",
        "clim = []\n",
        "for i in clim_files:\n",
        "  clim.append(pd.read_csv(i))\n",
        "clim = pd.concat(clim)\n",
        "\n",
        "hydromet = pd.read_csv('/content/gdrive/MyDrive/Data/pod_pou_lulcc/data_output/hydromet_data_out/model_input_hydromet.csv')"
      ],
      "metadata": {
        "id": "NamiutBT_Rul"
      },
      "execution_count": 3,
      "outputs": []
    },
    {
      "cell_type": "code",
      "source": [
        "## ------------------------------ ##\n",
        "## Use a dictionary to help align ##\n",
        "## ------------------------------ ##\n",
        "\n",
        "relate = pd.read_csv('/content/gdrive/MyDrive/Data/Drains_Lower_Boise_River/data_input/drainage_flows/dain_relates.csv')\n",
        "spatial = relate.dropna(subset=['Spatial Name'])\n",
        "newnames = dict(zip(spatial['Spatial Name'], spatial['NewName']))\n",
        "\n",
        "clim['NewName'] = clim['NAME'].map(newnames)\n",
        "clim = clim.drop(['Unnamed: 0', 'NAME'], axis=1)\n",
        "land['NewName2'] = land['DrainName'].map(newnames)\n",
        "land = land.drop(['Unnamed: 0', 'DrainName'], axis=1)"
      ],
      "metadata": {
        "id": "VS2P_7IE_VGs"
      },
      "execution_count": 6,
      "outputs": []
    },
    {
      "cell_type": "code",
      "source": [
        "## ------------------------------ ##\n",
        "## Merge the files together ##\n",
        "## ------------------------------ ##\n",
        "\n",
        "merge2 = drains.merge(clim, left_on = ['Year', 'Name'], right_on = ['Year', 'NewName'])\n",
        "merge3 = merge2.merge(land, left_on = ['Year', 'Name'], right_on = ['dates', 'NewName2'])\n",
        "merge3 = merge3.drop(['Unnamed: 0', 'NewName', 'dates',  'NewName2'], axis=1)\n",
        "\n",
        "\n",
        "merge_final = pd.merge(merge3, hydromet, on='Year', how='left')\n"
      ],
      "metadata": {
        "id": "lmzVBE3U_Xg-"
      },
      "execution_count": 8,
      "outputs": []
    },
    {
      "cell_type": "code",
      "source": [
        "merge_final.columns"
      ],
      "metadata": {
        "colab": {
          "base_uri": "https://localhost:8080/"
        },
        "id": "9aag8Orcg7bq",
        "outputId": "7f115062-db08-4f13-df88-8a80a5c09019"
      },
      "execution_count": 9,
      "outputs": [
        {
          "output_type": "execute_result",
          "data": {
            "text/plain": [
              "Index(['Name', 'Year', 'Sum_AF', 'SD_AF', 'ant_prcp', 'wy_prcp', 'irrig_temp',\n",
              "       'JuneAug_temp', 'et', 'class1_urban', 'class2_crops', 'contagion',\n",
              "       'largest_patch_index', 'Unnamed: 0', 'LP_inflows', 'Max_Fill',\n",
              "       'Carryover'],\n",
              "      dtype='object')"
            ]
          },
          "metadata": {},
          "execution_count": 9
        }
      ]
    },
    {
      "cell_type": "code",
      "source": [
        "## ------------------------------ ##\n",
        "##        Export the file         ##\n",
        "## ------------------------------ ##\n",
        "merge_final.to_csv('/content/gdrive/MyDrive/Data/Drains_Lower_Boise_River/data_output/compile_data_out/model_input.csv')"
      ],
      "metadata": {
        "id": "p-P40S91_dCO"
      },
      "execution_count": 10,
      "outputs": []
    }
  ]
}