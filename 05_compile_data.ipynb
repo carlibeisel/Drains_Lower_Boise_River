{
  "nbformat": 4,
  "nbformat_minor": 0,
  "metadata": {
    "colab": {
      "provenance": [],
      "authorship_tag": "ABX9TyPlfwMlkMuLpeVQq+9+YBDl",
      "include_colab_link": true
    },
    "kernelspec": {
      "name": "python3",
      "display_name": "Python 3"
    },
    "language_info": {
      "name": "python"
    }
  },
  "cells": [
    {
      "cell_type": "markdown",
      "metadata": {
        "id": "view-in-github",
        "colab_type": "text"
      },
      "source": [
        "<a href=\"https://colab.research.google.com/github/carlibeisel/Drains_Lower_Boise_River/blob/main/05_compile_data.ipynb\" target=\"_parent\"><img src=\"https://colab.research.google.com/assets/colab-badge.svg\" alt=\"Open In Colab\"/></a>"
      ]
    },
    {
      "cell_type": "markdown",
      "source": [
        "Modified by Carli Beisel\n",
        "\n",
        "Adapted from code written by Bridget Bittmann (2023, Github: bridgetmarie24)\n",
        "\n",
        "Date originally created: July 21, 2022\n",
        "\n",
        "Date modified: May 13, 2024\n",
        "\n",
        "Purpose: Merges flow, climate, and land use annual stats together."
      ],
      "metadata": {
        "id": "pkefc9OxD4ol"
      }
    },
    {
      "cell_type": "code",
      "source": [
        "## --------------- ##\n",
        "## IMPORT PACKAGES ##\n",
        "## --------------- ##\n",
        "\n",
        "import pandas as pd # to work with dataframe\n",
        "import os # for file paths\n",
        "import glob # read in a folder of csv\n",
        "import numpy as np # basic statistics\n",
        "\n",
        "from google.colab import drive\n",
        "drive.mount('/content/drive')"
      ],
      "metadata": {
        "id": "03IdZdGI_JcL",
        "colab": {
          "base_uri": "https://localhost:8080/"
        },
        "outputId": "dfde9c9a-a4f1-4610-ba73-04b5dd28ecf3"
      },
      "execution_count": 1,
      "outputs": [
        {
          "output_type": "stream",
          "name": "stdout",
          "text": [
            "Mounted at /content/drive\n"
          ]
        }
      ]
    },
    {
      "cell_type": "code",
      "source": [
        "## ------------------------------ ##\n",
        "## IMPORT ALL DATASETS            ##\n",
        "## ------------------------------ ##\n",
        "\n",
        "drains = pd.read_csv('/content/drive/MyDrive/Data/Drains_Lower_Boise_River/data_output/drainage_flows_out/annual_flow_vals.csv')\n",
        "\n",
        "land_files = sorted(glob.glob('/content/drive/MyDrive/Data/Drains_Lower_Boise_River/data_output/landcover_calculations_out/final_metrics/*.csv'))\n",
        "land = []\n",
        "for i in land_files:\n",
        "  land.append(pd.read_csv(i))\n",
        "land = pd.concat(land)\n",
        "\n",
        "clim_files = sorted(glob.glob('/content/drive/MyDrive/Data/Drains_Lower_Boise_River/data_output/climate_data_extract_out/final/*.csv'))\n",
        "clim = []\n",
        "for i in clim_files:\n",
        "  clim.append(pd.read_csv(i))\n",
        "clim = pd.concat(clim)\n",
        "\n",
        "hydromet = pd.read_csv('/content/drive/MyDrive/Data/pod_pou_lulcc/data_output/hydromet_data_out/model_input_hydromet.csv')\n",
        "\n",
        "ubrb_prcp = pd.read_csv('/content/drive/MyDrive/Data/Model Modifications/UBRB_precip/ubrb_prcp.csv')\n",
        "ubrb_prcp = ubrb_prcp.rename(columns={'year': 'Year'}) #rename to fit column structure\n",
        "ubrb_prcp = ubrb_prcp.rename(columns = {'precip':'ubrb_prcp'}) #rename to fit column structure\n",
        "\n",
        "pivot_change = pd.read_csv('/content/drive/MyDrive/Data/Model Modifications/irrigation_change/irrigation_model_input.csv')\n",
        "pivot_change = pivot_change.rename(columns = {'Predicted_Proportion': 'pivot_prop'}) #rename to fit column structure\n",
        "\n",
        "water_rights = pd.read_csv('/content/drive/MyDrive/Data/Model Modifications/water_rights/final_wr.csv')\n",
        "water_rights['Year'] = pd.to_numeric(water_rights['Year'], errors='coerce') # Filter rows where 'Year' is between 1987 and 2020\n",
        "#water_rights = water_rights[(water_rights['Year'] >= 1987) & (water_rights['Year'] <= 2020)]\n",
        "water_rights = water_rights.rename(columns = {'Drainshed': 'Name'}) #rename to fit column structure\n"
      ],
      "metadata": {
        "id": "NamiutBT_Rul"
      },
      "execution_count": 9,
      "outputs": []
    },
    {
      "cell_type": "code",
      "source": [
        "## ------------------------------------------ ##\n",
        "## Use a dictionary to help align drain names ##\n",
        "## ------------------------------------------ ##\n",
        "\n",
        "relate = pd.read_csv('/content/drive/MyDrive/Data/Drains_Lower_Boise_River/data_input/drainage_flows/dain_relates.csv')\n",
        "spatial = relate.dropna(subset=['Spatial Name'])\n",
        "newnames = dict(zip(spatial['Spatial Name'], spatial['NewName']))\n",
        "\n",
        "clim['NewName'] = clim['NAME'].map(newnames)\n",
        "clim = clim.drop(['Unnamed: 0', 'NAME'], axis=1)\n",
        "land['NewName2'] = land['DrainName'].map(newnames)\n",
        "land = land.drop(['Unnamed: 0', 'DrainName'], axis=1)\n",
        "\n",
        "pivot_change['NewName'] = pivot_change['Name'].map(newnames)\n",
        "\n",
        "water_rights['NewName'] = water_rights['Name'].map(newnames)\n"
      ],
      "metadata": {
        "id": "VS2P_7IE_VGs"
      },
      "execution_count": 10,
      "outputs": []
    },
    {
      "cell_type": "code",
      "source": [
        "## ------------------------------ ##\n",
        "## Merge the files together ##\n",
        "## ------------------------------ ##\n",
        "\n",
        "merge_df = drains.merge(clim, left_on = ['Year', 'Name'], right_on = ['Year', 'NewName'])\n",
        "merge_df = merge_df.merge(land, left_on = ['Year', 'Name'], right_on = ['dates', 'NewName2'])\n",
        "merge_df = merge_df.drop(['Unnamed: 0', 'NewName', 'dates',  'NewName2'], axis=1)\n"
      ],
      "metadata": {
        "id": "lmzVBE3U_Xg-"
      },
      "execution_count": 11,
      "outputs": []
    },
    {
      "cell_type": "code",
      "source": [
        "## ---------------------------------- ##\n",
        "## Merge with Model Modificaiton Data ##\n",
        "## ---------------------------------- ##\n",
        "\n",
        "merge_df = merge_df.merge(pivot_change, on=['Name', 'Year'], how='inner')\n",
        "merge_df = merge_df.merge(water_rights, on=['NewName', 'Year'], how='left') #water right was messing up - some years have none so was omitting those\n",
        "merge_df.fillna(0, inplace=True) #added to fill empty with 0\n",
        "merge_df = merge_df.merge(hydromet, on='Year', how='inner')\n",
        "merge_df = merge_df.merge(ubrb_prcp, on='Year', how='inner')"
      ],
      "metadata": {
        "id": "bBCYjDgj3ZC4"
      },
      "execution_count": 12,
      "outputs": []
    },
    {
      "cell_type": "code",
      "source": [
        "## ------------------------------ ##\n",
        "##        Export the file         ##\n",
        "## ------------------------------ ##\n",
        "merge_df.to_csv('/content/drive/MyDrive/Data/Drains_Lower_Boise_River/data_output/compile_data_out/model_input_0822.csv')"
      ],
      "metadata": {
        "id": "p-P40S91_dCO"
      },
      "execution_count": 13,
      "outputs": []
    }
  ]
}