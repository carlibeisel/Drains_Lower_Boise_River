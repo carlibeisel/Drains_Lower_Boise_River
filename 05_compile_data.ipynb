{
  "nbformat": 4,
  "nbformat_minor": 0,
  "metadata": {
    "colab": {
      "provenance": [],
      "authorship_tag": "ABX9TyMdZv2aXidkvI/LWh9+pI6k",
      "include_colab_link": true
    },
    "kernelspec": {
      "name": "python3",
      "display_name": "Python 3"
    },
    "language_info": {
      "name": "python"
    }
  },
  "cells": [
    {
      "cell_type": "markdown",
      "metadata": {
        "id": "view-in-github",
        "colab_type": "text"
      },
      "source": [
        "<a href=\"https://colab.research.google.com/github/carlibeisel/Drains_Lower_Boise_River/blob/main/05_compile_data.ipynb\" target=\"_parent\"><img src=\"https://colab.research.google.com/assets/colab-badge.svg\" alt=\"Open In Colab\"/></a>"
      ]
    },
    {
      "cell_type": "markdown",
      "source": [
        "Modified by Carli Beisel\n",
        "\n",
        "Adapted from code written by Bridget Bittmann (2023, Github: bridgetmarie24)\n",
        "\n",
        "Date originally created: July 21, 2022\n",
        "\n",
        "Date modified: May 13, 2024\n",
        "\n",
        "Purpose: Merges flow, climate, and land use annual stats together.\n",
        "\n",
        "*** cannot use direct output from this in R. It merges Mason Creek and Mason Drain wrong. This was manually corrected."
      ],
      "metadata": {
        "id": "pkefc9OxD4ol"
      }
    },
    {
      "cell_type": "code",
      "source": [
        "## --------------- ##\n",
        "## IMPORT PACKAGES ##\n",
        "## --------------- ##\n",
        "\n",
        "import pandas as pd # to work with dataframe\n",
        "import os # for file paths\n",
        "import glob # read in a folder of csv\n",
        "import numpy as np # basic statistics\n",
        "\n",
        "#connect to Google Drive\n",
        "from google.colab import drive\n",
        "drive.mount('/content/gdrive', force_remount=True)"
      ],
      "metadata": {
        "id": "03IdZdGI_JcL",
        "colab": {
          "base_uri": "https://localhost:8080/"
        },
        "outputId": "f49659ff-e5fb-4d04-d3d7-2d06d19bb135"
      },
      "execution_count": 3,
      "outputs": [
        {
          "output_type": "stream",
          "name": "stdout",
          "text": [
            "Mounted at /content/gdrive\n"
          ]
        }
      ]
    },
    {
      "cell_type": "code",
      "source": [
        "## ------------------------------ ##\n",
        "## IMPORT ALL DATASETS ##\n",
        "## ------------------------------ ##\n",
        "\n",
        "div = pd.read_csv('/content/gdrive/MyDrive/Data/Drains_Lower_Boise_River/data_output/drainage_flows_out/annual_flow_vals.csv')\n",
        "\n",
        "land_files = sorted(glob.glob('/content/gdrive/MyDrive/Data/Drains_Lower_Boise_River/data_output/landcover_calculations_out/final_metrics/*.csv'))\n",
        "land = []\n",
        "for i in land_files:\n",
        "  land.append(pd.read_csv(i))\n",
        "land = pd.concat(land)\n",
        "\n",
        "clim_files = sorted(glob.glob('/content/gdrive/MyDrive/Data/Drains_Lower_Boise_River/data_output/climate_data_extract_out/final/*.csv'))\n",
        "clim = []\n",
        "for i in clim_files:\n",
        "  clim.append(pd.read_csv(i))\n",
        "clim = pd.concat(clim)"
      ],
      "metadata": {
        "id": "NamiutBT_Rul"
      },
      "execution_count": 13,
      "outputs": []
    },
    {
      "cell_type": "code",
      "source": [
        "## ------------------------------ ##\n",
        "## Use a dictionary to help align ##\n",
        "## ------------------------------ ##\n",
        "\n",
        "relate = pd.read_csv('/content/gdrive/MyDrive/Data/Drains_Lower_Boise_River/data_input/drainage_flows/dain_relates.csv')\n",
        "spatial = relate.dropna(subset=['Spatial Name'])\n",
        "newnames = dict(zip(spatial['Spatial Name'], spatial['NewName']))\n",
        "\n",
        "clim['NewName'] = clim['NAME'].map(newnames)\n",
        "clim = clim.drop(['Unnamed: 0', 'NAME'], axis=1)\n",
        "land['NewName2'] = land['DrainName'].map(newnames)\n",
        "land = land.drop(['Unnamed: 0', 'DrainName'], axis=1)"
      ],
      "metadata": {
        "id": "VS2P_7IE_VGs"
      },
      "execution_count": 14,
      "outputs": []
    },
    {
      "cell_type": "code",
      "source": [
        "## ------------------------------ ##\n",
        "## Merge the files together ##\n",
        "## ------------------------------ ##\n",
        "\n",
        "merge2 = div.merge(clim, left_on = ['Year', 'Name'], right_on = ['Year', 'NewName'])\n",
        "merge_final = merge2.merge(land, left_on = ['Year', 'Name'], right_on = ['dates', 'NewName2'])\n",
        "merge_final = merge_final.drop(['Unnamed: 0', 'NewName', 'dates',  'NewName2'], axis=1)\n"
      ],
      "metadata": {
        "id": "lmzVBE3U_Xg-"
      },
      "execution_count": 15,
      "outputs": []
    },
    {
      "cell_type": "code",
      "source": [
        "merge_final.columns"
      ],
      "metadata": {
        "colab": {
          "base_uri": "https://localhost:8080/"
        },
        "id": "9aag8Orcg7bq",
        "outputId": "c123ce2a-46d1-425e-9062-51e28a7d7617"
      },
      "execution_count": 16,
      "outputs": [
        {
          "output_type": "execute_result",
          "data": {
            "text/plain": [
              "Index(['Name', 'Year', 'Sum_AF', 'SD_AF', 'ant_prcp', 'wy_prcp', 'irrig_temp',\n",
              "       'JuneAug_temp', 'et', 'class1_urban', 'class2_crops', 'contagion',\n",
              "       'largest_patch_index'],\n",
              "      dtype='object')"
            ]
          },
          "metadata": {},
          "execution_count": 16
        }
      ]
    },
    {
      "cell_type": "code",
      "source": [
        "## ------------------------------ ##\n",
        "##        Export the file         ##\n",
        "## ------------------------------ ##\n",
        "\n",
        "# I think I can delete these?\n",
        "# Specify the order of columns for later analysis scripts\n",
        "#desired_order = ['Year', 'Acre_feet', 'Diversion (cfs)', 'Irrigation Year', 'SiteID', 'Month', 'DayofYear','Sum','StartDate','StartDayofYear','EndDate','EndDayofYear','Time','Censor','_merge','Name','class1_urban','class2_crops','contagion','largest_patch_index','ant_prcp','wy_prcp','irrig_temp','JuneAug_temp','et','Mar_et','Mar_tmp','Mar_prcp','LP_inflows','Max_Fill','Carryover','Size_acres','AF_used','AF_remaining','AF_available','Unnamed: 5','Unnamed: 6']\n",
        "#merge_final = merge_final[desired_order]\n",
        "\n",
        "\n",
        "merge_final.to_csv('/content/gdrive/MyDrive/Data/Drains_Lower_Boise_River/data_output/compile_data_out/model_input_0707.csv')"
      ],
      "metadata": {
        "id": "p-P40S91_dCO",
        "colab": {
          "base_uri": "https://localhost:8080/",
          "height": 456
        },
        "outputId": "eafa9f4e-dad7-402b-97bb-437a564760d1"
      },
      "execution_count": 18,
      "outputs": [
        {
          "output_type": "error",
          "ename": "KeyError",
          "evalue": "\"['Acre_feet', 'Diversion (cfs)', 'Irrigation Year', 'SiteID', 'Month', 'DayofYear', 'Sum', 'StartDate', 'StartDayofYear', 'EndDate', 'EndDayofYear', 'Time', 'Censor', '_merge', 'Mar_et', 'Mar_tmp', 'Mar_prcp', 'LP_inflows', 'Max_Fill', 'Carryover', 'Size_acres', 'AF_used', 'AF_remaining', 'AF_available', 'Unnamed: 5', 'Unnamed: 6'] not in index\"",
          "traceback": [
            "\u001b[0;31m---------------------------------------------------------------------------\u001b[0m",
            "\u001b[0;31mKeyError\u001b[0m                                  Traceback (most recent call last)",
            "\u001b[0;32m<ipython-input-18-4f3dea4288af>\u001b[0m in \u001b[0;36m<cell line: 7>\u001b[0;34m()\u001b[0m\n\u001b[1;32m      5\u001b[0m \u001b[0;31m# Specify the order of columns for later analysis scripts\u001b[0m\u001b[0;34m\u001b[0m\u001b[0;34m\u001b[0m\u001b[0m\n\u001b[1;32m      6\u001b[0m \u001b[0mdesired_order\u001b[0m \u001b[0;34m=\u001b[0m \u001b[0;34m[\u001b[0m\u001b[0;34m'Year'\u001b[0m\u001b[0;34m,\u001b[0m \u001b[0;34m'Acre_feet'\u001b[0m\u001b[0;34m,\u001b[0m \u001b[0;34m'Diversion (cfs)'\u001b[0m\u001b[0;34m,\u001b[0m \u001b[0;34m'Irrigation Year'\u001b[0m\u001b[0;34m,\u001b[0m \u001b[0;34m'SiteID'\u001b[0m\u001b[0;34m,\u001b[0m \u001b[0;34m'Month'\u001b[0m\u001b[0;34m,\u001b[0m \u001b[0;34m'DayofYear'\u001b[0m\u001b[0;34m,\u001b[0m\u001b[0;34m'Sum'\u001b[0m\u001b[0;34m,\u001b[0m\u001b[0;34m'StartDate'\u001b[0m\u001b[0;34m,\u001b[0m\u001b[0;34m'StartDayofYear'\u001b[0m\u001b[0;34m,\u001b[0m\u001b[0;34m'EndDate'\u001b[0m\u001b[0;34m,\u001b[0m\u001b[0;34m'EndDayofYear'\u001b[0m\u001b[0;34m,\u001b[0m\u001b[0;34m'Time'\u001b[0m\u001b[0;34m,\u001b[0m\u001b[0;34m'Censor'\u001b[0m\u001b[0;34m,\u001b[0m\u001b[0;34m'_merge'\u001b[0m\u001b[0;34m,\u001b[0m\u001b[0;34m'Name'\u001b[0m\u001b[0;34m,\u001b[0m\u001b[0;34m'class1_urban'\u001b[0m\u001b[0;34m,\u001b[0m\u001b[0;34m'class2_crops'\u001b[0m\u001b[0;34m,\u001b[0m\u001b[0;34m'contagion'\u001b[0m\u001b[0;34m,\u001b[0m\u001b[0;34m'largest_patch_index'\u001b[0m\u001b[0;34m,\u001b[0m\u001b[0;34m'ant_prcp'\u001b[0m\u001b[0;34m,\u001b[0m\u001b[0;34m'wy_prcp'\u001b[0m\u001b[0;34m,\u001b[0m\u001b[0;34m'irrig_temp'\u001b[0m\u001b[0;34m,\u001b[0m\u001b[0;34m'JuneAug_temp'\u001b[0m\u001b[0;34m,\u001b[0m\u001b[0;34m'et'\u001b[0m\u001b[0;34m,\u001b[0m\u001b[0;34m'Mar_et'\u001b[0m\u001b[0;34m,\u001b[0m\u001b[0;34m'Mar_tmp'\u001b[0m\u001b[0;34m,\u001b[0m\u001b[0;34m'Mar_prcp'\u001b[0m\u001b[0;34m,\u001b[0m\u001b[0;34m'LP_inflows'\u001b[0m\u001b[0;34m,\u001b[0m\u001b[0;34m'Max_Fill'\u001b[0m\u001b[0;34m,\u001b[0m\u001b[0;34m'Carryover'\u001b[0m\u001b[0;34m,\u001b[0m\u001b[0;34m'Size_acres'\u001b[0m\u001b[0;34m,\u001b[0m\u001b[0;34m'AF_used'\u001b[0m\u001b[0;34m,\u001b[0m\u001b[0;34m'AF_remaining'\u001b[0m\u001b[0;34m,\u001b[0m\u001b[0;34m'AF_available'\u001b[0m\u001b[0;34m,\u001b[0m\u001b[0;34m'Unnamed: 5'\u001b[0m\u001b[0;34m,\u001b[0m\u001b[0;34m'Unnamed: 6'\u001b[0m\u001b[0;34m]\u001b[0m\u001b[0;34m\u001b[0m\u001b[0;34m\u001b[0m\u001b[0m\n\u001b[0;32m----> 7\u001b[0;31m \u001b[0mmerge_final\u001b[0m \u001b[0;34m=\u001b[0m \u001b[0mmerge_final\u001b[0m\u001b[0;34m[\u001b[0m\u001b[0mdesired_order\u001b[0m\u001b[0;34m]\u001b[0m\u001b[0;34m\u001b[0m\u001b[0;34m\u001b[0m\u001b[0m\n\u001b[0m\u001b[1;32m      8\u001b[0m \u001b[0;34m\u001b[0m\u001b[0m\n\u001b[1;32m      9\u001b[0m \u001b[0;34m\u001b[0m\u001b[0m\n",
            "\u001b[0;32m/usr/local/lib/python3.10/dist-packages/pandas/core/frame.py\u001b[0m in \u001b[0;36m__getitem__\u001b[0;34m(self, key)\u001b[0m\n\u001b[1;32m   3897\u001b[0m             \u001b[0;32mif\u001b[0m \u001b[0mis_iterator\u001b[0m\u001b[0;34m(\u001b[0m\u001b[0mkey\u001b[0m\u001b[0;34m)\u001b[0m\u001b[0;34m:\u001b[0m\u001b[0;34m\u001b[0m\u001b[0;34m\u001b[0m\u001b[0m\n\u001b[1;32m   3898\u001b[0m                 \u001b[0mkey\u001b[0m \u001b[0;34m=\u001b[0m \u001b[0mlist\u001b[0m\u001b[0;34m(\u001b[0m\u001b[0mkey\u001b[0m\u001b[0;34m)\u001b[0m\u001b[0;34m\u001b[0m\u001b[0;34m\u001b[0m\u001b[0m\n\u001b[0;32m-> 3899\u001b[0;31m             \u001b[0mindexer\u001b[0m \u001b[0;34m=\u001b[0m \u001b[0mself\u001b[0m\u001b[0;34m.\u001b[0m\u001b[0mcolumns\u001b[0m\u001b[0;34m.\u001b[0m\u001b[0m_get_indexer_strict\u001b[0m\u001b[0;34m(\u001b[0m\u001b[0mkey\u001b[0m\u001b[0;34m,\u001b[0m \u001b[0;34m\"columns\"\u001b[0m\u001b[0;34m)\u001b[0m\u001b[0;34m[\u001b[0m\u001b[0;36m1\u001b[0m\u001b[0;34m]\u001b[0m\u001b[0;34m\u001b[0m\u001b[0;34m\u001b[0m\u001b[0m\n\u001b[0m\u001b[1;32m   3900\u001b[0m \u001b[0;34m\u001b[0m\u001b[0m\n\u001b[1;32m   3901\u001b[0m         \u001b[0;31m# take() does not accept boolean indexers\u001b[0m\u001b[0;34m\u001b[0m\u001b[0;34m\u001b[0m\u001b[0m\n",
            "\u001b[0;32m/usr/local/lib/python3.10/dist-packages/pandas/core/indexes/base.py\u001b[0m in \u001b[0;36m_get_indexer_strict\u001b[0;34m(self, key, axis_name)\u001b[0m\n\u001b[1;32m   6113\u001b[0m             \u001b[0mkeyarr\u001b[0m\u001b[0;34m,\u001b[0m \u001b[0mindexer\u001b[0m\u001b[0;34m,\u001b[0m \u001b[0mnew_indexer\u001b[0m \u001b[0;34m=\u001b[0m \u001b[0mself\u001b[0m\u001b[0;34m.\u001b[0m\u001b[0m_reindex_non_unique\u001b[0m\u001b[0;34m(\u001b[0m\u001b[0mkeyarr\u001b[0m\u001b[0;34m)\u001b[0m\u001b[0;34m\u001b[0m\u001b[0;34m\u001b[0m\u001b[0m\n\u001b[1;32m   6114\u001b[0m \u001b[0;34m\u001b[0m\u001b[0m\n\u001b[0;32m-> 6115\u001b[0;31m         \u001b[0mself\u001b[0m\u001b[0;34m.\u001b[0m\u001b[0m_raise_if_missing\u001b[0m\u001b[0;34m(\u001b[0m\u001b[0mkeyarr\u001b[0m\u001b[0;34m,\u001b[0m \u001b[0mindexer\u001b[0m\u001b[0;34m,\u001b[0m \u001b[0maxis_name\u001b[0m\u001b[0;34m)\u001b[0m\u001b[0;34m\u001b[0m\u001b[0;34m\u001b[0m\u001b[0m\n\u001b[0m\u001b[1;32m   6116\u001b[0m \u001b[0;34m\u001b[0m\u001b[0m\n\u001b[1;32m   6117\u001b[0m         \u001b[0mkeyarr\u001b[0m \u001b[0;34m=\u001b[0m \u001b[0mself\u001b[0m\u001b[0;34m.\u001b[0m\u001b[0mtake\u001b[0m\u001b[0;34m(\u001b[0m\u001b[0mindexer\u001b[0m\u001b[0;34m)\u001b[0m\u001b[0;34m\u001b[0m\u001b[0;34m\u001b[0m\u001b[0m\n",
            "\u001b[0;32m/usr/local/lib/python3.10/dist-packages/pandas/core/indexes/base.py\u001b[0m in \u001b[0;36m_raise_if_missing\u001b[0;34m(self, key, indexer, axis_name)\u001b[0m\n\u001b[1;32m   6177\u001b[0m \u001b[0;34m\u001b[0m\u001b[0m\n\u001b[1;32m   6178\u001b[0m             \u001b[0mnot_found\u001b[0m \u001b[0;34m=\u001b[0m \u001b[0mlist\u001b[0m\u001b[0;34m(\u001b[0m\u001b[0mensure_index\u001b[0m\u001b[0;34m(\u001b[0m\u001b[0mkey\u001b[0m\u001b[0;34m)\u001b[0m\u001b[0;34m[\u001b[0m\u001b[0mmissing_mask\u001b[0m\u001b[0;34m.\u001b[0m\u001b[0mnonzero\u001b[0m\u001b[0;34m(\u001b[0m\u001b[0;34m)\u001b[0m\u001b[0;34m[\u001b[0m\u001b[0;36m0\u001b[0m\u001b[0;34m]\u001b[0m\u001b[0;34m]\u001b[0m\u001b[0;34m.\u001b[0m\u001b[0munique\u001b[0m\u001b[0;34m(\u001b[0m\u001b[0;34m)\u001b[0m\u001b[0;34m)\u001b[0m\u001b[0;34m\u001b[0m\u001b[0;34m\u001b[0m\u001b[0m\n\u001b[0;32m-> 6179\u001b[0;31m             \u001b[0;32mraise\u001b[0m \u001b[0mKeyError\u001b[0m\u001b[0;34m(\u001b[0m\u001b[0;34mf\"{not_found} not in index\"\u001b[0m\u001b[0;34m)\u001b[0m\u001b[0;34m\u001b[0m\u001b[0;34m\u001b[0m\u001b[0m\n\u001b[0m\u001b[1;32m   6180\u001b[0m \u001b[0;34m\u001b[0m\u001b[0m\n\u001b[1;32m   6181\u001b[0m     \u001b[0;34m@\u001b[0m\u001b[0moverload\u001b[0m\u001b[0;34m\u001b[0m\u001b[0;34m\u001b[0m\u001b[0m\n",
            "\u001b[0;31mKeyError\u001b[0m: \"['Acre_feet', 'Diversion (cfs)', 'Irrigation Year', 'SiteID', 'Month', 'DayofYear', 'Sum', 'StartDate', 'StartDayofYear', 'EndDate', 'EndDayofYear', 'Time', 'Censor', '_merge', 'Mar_et', 'Mar_tmp', 'Mar_prcp', 'LP_inflows', 'Max_Fill', 'Carryover', 'Size_acres', 'AF_used', 'AF_remaining', 'AF_available', 'Unnamed: 5', 'Unnamed: 6'] not in index\""
          ]
        }
      ]
    }
  ]
}